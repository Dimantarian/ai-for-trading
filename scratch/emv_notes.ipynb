{
 "metadata": {
  "language_info": {
   "codemirror_mode": {
    "name": "ipython",
    "version": 3
   },
   "file_extension": ".py",
   "mimetype": "text/x-python",
   "name": "python",
   "nbconvert_exporter": "python",
   "pygments_lexer": "ipython3",
   "version": "3.8.5-final"
  },
  "orig_nbformat": 2,
  "kernelspec": {
   "name": "python3",
   "display_name": "Python 3.8.5 64-bit (conda)",
   "metadata": {
    "interpreter": {
     "hash": "86ca6d77abdc4d9e27265da944e56dbcd185ee5122b1bc43892965a47e7af14f"
    }
   }
  }
 },
 "nbformat": 4,
 "nbformat_minor": 2,
 "cells": [
  {
   "cell_type": "code",
   "execution_count": 38,
   "metadata": {},
   "outputs": [
    {
     "output_type": "execute_result",
     "data": {
      "text/plain": [
       "date\n",
       "2013-07-02    558.460000\n",
       "2013-07-03    556.617926\n",
       "2013-07-05    558.441898\n",
       "2013-07-08    556.181508\n",
       "2013-07-09    558.742118\n",
       "Name: price, dtype: float64"
      ]
     },
     "metadata": {},
     "execution_count": 38
    }
   ],
   "source": [
    "import pandas as pd\n",
    "import numpy as np\n",
    "\n",
    "prices = pd.read_csv(\"data.csv\", parse_dates=['date'], index_col='date', squeeze=True)\n",
    "prices.head()"
   ]
  },
  {
   "source": [
    "![title](equation.png)"
   ],
   "cell_type": "markdown",
   "metadata": {}
  },
  {
   "cell_type": "code",
   "execution_count": 40,
   "metadata": {},
   "outputs": [
    {
     "output_type": "execute_result",
     "data": {
      "text/plain": [
       "0.004940582044719172"
      ]
     },
     "metadata": {},
     "execution_count": 40
    }
   ],
   "source": [
    "l = 0.7\n",
    "## We need to square to log returns for the input to EMA\n",
    "log_rs = np.log(prices/prices.shift(1))**2\n",
    "ew_prices = log_rs.ewm(alpha=1-l)\n",
    "## We now have a variance vector (based on the above eqn), so take the square root to get volatility and take the last value! \n",
    "np.sqrt(ew_prices.mean()[-1])\n",
    "\n"
   ]
  }
 ]
}